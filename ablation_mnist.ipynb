{
  "cells": [
    {
      "cell_type": "markdown",
      "metadata": {
        "id": "9TcBZztXCrtz"
      },
      "source": [
        "# MNIST Neuron Ablation Demo\n",
        "\n",
        "Identify neurons highly activated for digit '7', then ablate them"
      ]
    },
    {
      "cell_type": "code",
      "execution_count": null,
      "metadata": {
        "id": "9b1FYtBFbuSO"
      },
      "outputs": [],
      "source": [
        "import torch\n",
        "import torch.nn as nn\n",
        "import torch.nn.functional as F\n",
        "import torchvision\n",
        "import torchvision.transforms as transforms\n",
        "import numpy as np\n",
        "from torch.utils.data import DataLoader\n",
        "import matplotlib.pyplot as plt"
      ]
    },
    {
      "cell_type": "code",
      "execution_count": null,
      "metadata": {
        "id": "Y_O4La_wb0_z"
      },
      "outputs": [],
      "source": [
        "class MNISTNet(nn.Module):\n",
        "    def __init__(self):\n",
        "        super(MNISTNet, self).__init__()\n",
        "        self.fc1 = nn.Linear(784, 256)\n",
        "        self.fc2 = nn.Linear(256, 128)\n",
        "        self.fc3 = nn.Linear(128, 64)\n",
        "        self.fc4 = nn.Linear(64, 10)\n",
        "\n",
        "    def forward(self, x):\n",
        "        x = x.view(-1, 784)\n",
        "        x = F.relu(self.fc1(x))\n",
        "        x = F.relu(self.fc2(x))\n",
        "        x = F.relu(self.fc3(x))\n",
        "        x = self.fc4(x)\n",
        "        return x\n",
        "\n",
        "    def get_layer_activations(self, x, layer_name):\n",
        "        x = x.view(-1, 784)\n",
        "        activations = {}\n",
        "\n",
        "        x = F.relu(self.fc1(x))\n",
        "        if layer_name == 'fc1':\n",
        "            activations['fc1'] = x.clone()\n",
        "\n",
        "        x = F.relu(self.fc2(x))\n",
        "        if layer_name == 'fc2':\n",
        "            activations['fc2'] = x.clone()\n",
        "\n",
        "        x = F.relu(self.fc3(x))\n",
        "        if layer_name == 'fc3':\n",
        "            activations['fc3'] = x.clone()\n",
        "\n",
        "        x = self.fc4(x)\n",
        "        if layer_name == 'fc4':\n",
        "            activations['fc4'] = x.clone()\n",
        "\n",
        "        return activations.get(layer_name, None)"
      ]
    },
    {
      "cell_type": "code",
      "execution_count": null,
      "metadata": {
        "id": "TveNExaib6G0"
      },
      "outputs": [],
      "source": [
        "device = torch.device(\"cuda\" if torch.cuda.is_available() else \"cpu\")\n",
        "transform = transforms.ToTensor()\n",
        "train_set = torchvision.datasets.MNIST(root='./data', train=True, download=True, transform=transform)\n",
        "test_set = torchvision.datasets.MNIST(root='./data', train=False, download=True, transform=transform)\n",
        "\n",
        "train_loader = DataLoader(train_set, batch_size=64, shuffle=True)\n",
        "test_loader = DataLoader(test_set, batch_size=64, shuffle=False)"
      ]
    },
    {
      "cell_type": "code",
      "execution_count": null,
      "metadata": {
        "id": "TenI_txlcJWA"
      },
      "outputs": [],
      "source": [
        "# model training\n",
        "def train_model(model, train_loader, epochs=10):\n",
        "    criterion = nn.CrossEntropyLoss()\n",
        "    optimizer = torch.optim.Adam(model.parameters(), lr=0.001)\n",
        "\n",
        "    model.train()\n",
        "    for epoch in range(epochs):\n",
        "        total_loss = 0\n",
        "        for batch_idx, (data, target) in enumerate(train_loader):\n",
        "            optimizer.zero_grad()\n",
        "            output = model(data)\n",
        "            loss = criterion(output, target)\n",
        "            loss.backward()\n",
        "            optimizer.step()\n",
        "            total_loss += loss.item()"
      ]
    },
    {
      "cell_type": "code",
      "execution_count": null,
      "metadata": {
        "id": "-B8mhJD4hvY8"
      },
      "outputs": [],
      "source": [
        "# model testing\n",
        "def test_model(model, test_loader):\n",
        "    model.eval()\n",
        "    correct = 0\n",
        "    total = 0\n",
        "\n",
        "    with torch.no_grad():\n",
        "        for data, target in test_loader:\n",
        "            output = model(data)\n",
        "            _, predicted = torch.max(output.data, 1)\n",
        "            total += target.size(0)\n",
        "            correct += (predicted == target).sum().item()\n",
        "\n",
        "    return 100 * correct / total"
      ]
    },
    {
      "cell_type": "code",
      "execution_count": null,
      "metadata": {
        "id": "4ru4VYLUcaDp"
      },
      "outputs": [],
      "source": [
        "# find digit specific neurons\n",
        "def find_digit_specific_neurons(model, data_loader, target_digit, layer_name='fc2', top_k=10):\n",
        "    model.eval()\n",
        "    digit_activations = []\n",
        "\n",
        "    with torch.no_grad():\n",
        "        for data, target in data_loader:\n",
        "            digit_mask = (target == target_digit)\n",
        "            if digit_mask.sum() > 0:\n",
        "                digit_data = data[digit_mask]\n",
        "                activations = model.get_layer_activations(digit_data, layer_name)\n",
        "                digit_activations.append(activations)\n",
        "\n",
        "    if digit_activations:\n",
        "        all_activations = torch.cat(digit_activations, dim=0)\n",
        "        mean_activations = all_activations.mean(dim=0)\n",
        "        top_neurons = torch.topk(mean_activations, top_k).indices\n",
        "        return top_neurons.tolist()\n",
        "    return []"
      ]
    },
    {
      "cell_type": "code",
      "execution_count": null,
      "metadata": {
        "id": "kqDH__wIcdIy"
      },
      "outputs": [],
      "source": [
        "# ablate selected neurons\n",
        "def ablate_neurons(model, layer_name, neuron_indices):\n",
        "    ablated_model = type(model)()\n",
        "    ablated_model.load_state_dict(model.state_dict())\n",
        "\n",
        "    class AblationHook:\n",
        "        def __init__(self, neuron_indices):\n",
        "            self.neuron_indices = neuron_indices\n",
        "\n",
        "        def __call__(self, module, input, output):\n",
        "            for idx in self.neuron_indices:\n",
        "                if idx < output.size(1):\n",
        "                    output[:, idx] = 0\n",
        "            return output\n",
        "\n",
        "    if layer_name == 'fc1':\n",
        "        ablated_model.fc1.register_forward_hook(AblationHook(neuron_indices))\n",
        "    elif layer_name == 'fc2':\n",
        "        ablated_model.fc2.register_forward_hook(AblationHook(neuron_indices))\n",
        "    elif layer_name == 'fc3':\n",
        "        ablated_model.fc3.register_forward_hook(AblationHook(neuron_indices))\n",
        "\n",
        "    return ablated_model"
      ]
    },
    {
      "cell_type": "code",
      "execution_count": null,
      "metadata": {
        "id": "49t14w5IiAPx"
      },
      "outputs": [],
      "source": [
        "# digit accuracy\n",
        "def test_digit_specific_accuracy(model, test_loader, target_digit):\n",
        "    model.eval()\n",
        "    correct = 0\n",
        "    total = 0\n",
        "\n",
        "    with torch.no_grad():\n",
        "        for data, target in test_loader:\n",
        "            digit_mask = (target == target_digit)\n",
        "            if digit_mask.sum() > 0:\n",
        "                digit_data = data[digit_mask]\n",
        "                digit_target = target[digit_mask]\n",
        "                output = model(digit_data)\n",
        "                _, predicted = torch.max(output.data, 1)\n",
        "                total += digit_target.size(0)\n",
        "                correct += (predicted == digit_target).sum().item()\n",
        "\n",
        "    return 100 * correct / total if total > 0 else 0"
      ]
    },
    {
      "cell_type": "markdown",
      "metadata": {
        "id": "tnMq2yXwiGrs"
      },
      "source": [
        "## Run ablation"
      ]
    },
    {
      "cell_type": "code",
      "execution_count": null,
      "metadata": {
        "id": "bXXZiiJ0iGbE"
      },
      "outputs": [],
      "source": [
        "def run_ablation_study():\n",
        "    transform = transforms.Compose([\n",
        "        transforms.ToTensor(),\n",
        "        transforms.Normalize((0.1307,), (0.3081,))\n",
        "    ])\n",
        "\n",
        "    train_dataset = torchvision.datasets.MNIST(root='./data', train=True, download=True, transform=transform)\n",
        "    test_dataset = torchvision.datasets.MNIST(root='./data', train=False, download=True, transform=transform)\n",
        "\n",
        "    train_loader = DataLoader(train_dataset, batch_size=64, shuffle=True)\n",
        "    test_loader = DataLoader(test_dataset, batch_size=64, shuffle=False)\n",
        "\n",
        "    model = MNISTNet()\n",
        "    train_model(model, train_loader, epochs=10)\n",
        "\n",
        "    original_accuracy = test_model(model, test_loader)\n",
        "\n",
        "    target_digit = 7\n",
        "    important_neurons = find_digit_specific_neurons(model, train_loader, target_digit, layer_name='fc2', top_k=5)\n",
        "\n",
        "    ablated_model = ablate_neurons(model, 'fc2', important_neurons)\n",
        "\n",
        "    original_digit_accuracy = test_digit_specific_accuracy(model, test_loader, target_digit)\n",
        "    ablated_digit_accuracy = test_digit_specific_accuracy(ablated_model, test_loader, target_digit)\n",
        "    ablated_overall_accuracy = test_model(ablated_model, test_loader)\n",
        "\n",
        "    results = {\n",
        "        'original_overall_accuracy': original_accuracy,\n",
        "        'original_digit_accuracy': original_digit_accuracy,\n",
        "        'ablated_digit_accuracy': ablated_digit_accuracy,\n",
        "        'ablated_overall_accuracy': ablated_overall_accuracy,\n",
        "        'important_neurons': important_neurons,\n",
        "        'target_digit': target_digit\n",
        "    }\n",
        "\n",
        "    return results, model, ablated_model\n"
      ]
    },
    {
      "cell_type": "code",
      "execution_count": null,
      "metadata": {
        "id": "NsCkupiPiNEv"
      },
      "outputs": [],
      "source": [
        "# visualize ablation\n",
        "def visualize_ablation_effects(results):\n",
        "    target_digit = results['target_digit']\n",
        "\n",
        "    categories = ['Overall\\nAccuracy', f'Digit {target_digit}\\nAccuracy']\n",
        "    original_scores = [results['original_overall_accuracy'], results['original_digit_accuracy']]\n",
        "    ablated_scores = [results['ablated_overall_accuracy'], results['ablated_digit_accuracy']]\n",
        "\n",
        "    x = np.arange(len(categories))\n",
        "    width = 0.35\n",
        "\n",
        "    plt.figure(figsize=(10, 6))\n",
        "    plt.bar(x - width/2, original_scores, width, label='Original Model', alpha=0.8)\n",
        "    plt.bar(x + width/2, ablated_scores, width, label='Ablated Model', alpha=0.8)\n",
        "\n",
        "    plt.xlabel('Test Category')\n",
        "    plt.ylabel('Accuracy (%)')\n",
        "    plt.title(f'Neuron Ablation Effect on Digit {target_digit} Recognition')\n",
        "    plt.xticks(x, categories)\n",
        "    plt.legend()\n",
        "    plt.ylim(0, 100)\n",
        "\n",
        "    for i, (orig, abl) in enumerate(zip(original_scores, ablated_scores)):\n",
        "        plt.text(i - width/2, orig + 1, f'{orig:.1f}%', ha='center', va='bottom')\n",
        "        plt.text(i + width/2, abl + 1, f'{abl:.1f}%', ha='center', va='bottom')\n",
        "\n",
        "    plt.tight_layout()\n",
        "    plt.show()"
      ]
    },
    {
      "cell_type": "code",
      "execution_count": null,
      "metadata": {
        "colab": {
          "base_uri": "https://localhost:8080/",
          "height": 650
        },
        "id": "9ybObfJndG7j",
        "outputId": "2f45251a-1f9a-486b-88c7-80a1ee3c4f22"
      },
      "outputs": [
        {
          "name": "stdout",
          "output_type": "stream",
          "text": [
            "Neuron Ablation Study Results:\n",
            "Target digit: 7\n",
            "Important neurons ablated: [74, 78, 46, 90, 15]\n",
            "Original overall accuracy: 97.85%\n",
            "Original digit 7 accuracy: 97.28%\n",
            "Ablated overall accuracy: 97.26%\n",
            "Ablated digit 7 accuracy: 91.05%\n",
            "Performance drop for digit 7: 6.23%\n"
          ]
        },
        {
          "data": {
            "image/png": "[encoded data removed]",
            "text/plain": [
              "<Figure size 1000x600 with 1 Axes>"
            ]
          },
          "metadata": {},
          "output_type": "display_data"
        }
      ],
      "source": [
        "if __name__ == \"__main__\":\n",
        "    results, original_model, ablated_model = run_ablation_study()\n",
        "\n",
        "    print(\"Neuron Ablation Study Results:\")\n",
        "    print(f\"Target digit: {results['target_digit']}\")\n",
        "    print(f\"Important neurons ablated: {results['important_neurons']}\")\n",
        "    print(f\"Original overall accuracy: {results['original_overall_accuracy']:.2f}%\")\n",
        "    print(f\"Original digit {results['target_digit']} accuracy: {results['original_digit_accuracy']:.2f}%\")\n",
        "    print(f\"Ablated overall accuracy: {results['ablated_overall_accuracy']:.2f}%\")\n",
        "    print(f\"Ablated digit {results['target_digit']} accuracy: {results['ablated_digit_accuracy']:.2f}%\")\n",
        "    print(f\"Performance drop for digit {results['target_digit']}: {results['original_digit_accuracy'] - results['ablated_digit_accuracy']:.2f}%\")\n",
        "\n",
        "    visualize_ablation_effects(results)"
      ]
    },
    {
      "cell_type": "code",
      "execution_count": null,
      "metadata": {
        "id": "-CA2Pe_9iTbg"
      },
      "outputs": [],
      "source": []
    }
  ],
  "metadata": {
    "accelerator": "GPU",
    "colab": {
      "gpuType": "T4",
      "provenance": []
    },
    "kernelspec": {
      "display_name": "Python 3",
      "name": "python3"
    },
    "language_info": {
      "name": "python"
    }
  },
  "nbformat": 4,
  "nbformat_minor": 0
}
